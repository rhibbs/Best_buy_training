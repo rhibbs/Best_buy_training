{
 "cells": [
  {
   "cell_type": "code",
   "execution_count": 2,
   "metadata": {},
   "outputs": [
    {
     "name": "stdout",
     "output_type": "stream",
     "text": [
      "^C\n"
     ]
    }
   ],
   "source": [
    "!curl https://ecommwebsitedata.s3.amazonaws.com/acm-sf-chapter-hackathon-big.zip --output bestbuy.zip\n"
   ]
  },
  {
   "cell_type": "code",
   "execution_count": null,
   "metadata": {},
   "outputs": [],
   "source": [
    "import pandas as pd\n",
    "import xml.etree.ElementTree as et\n",
    "file_path = \"product_data\\categories\\categories_0001_abcat0010000_to_pcmcat99300050000.xml\"\n",
    "file_as_frame = pd.read_xml(file_path)\n",
    "file_as_frame.head(5)"
   ]
  },
  {
   "cell_type": "code",
   "execution_count": null,
   "metadata": {},
   "outputs": [],
   "source": [
    "parsed_tree = et.parse(file_path)\n",
    "root = parsed_tree.getroot()\n",
    "all_data = []\n",
    "\n",
    "for category in root.iter(\"category\"):\n",
    "    if len(category) > 2 :\n",
    "\n",
    "        category_data = []\n",
    "        name = category.find(\"name\").text\n",
    "        Id = category.find(\"id\").text\n",
    "        level = [None for i in range(5)]\n",
    "        i = 0\n",
    "        for category_level in category[2]:\n",
    "            category_id = category_level.find(\"id\").text\n",
    "            level[i] = category_id\n",
    "            if i <4:\n",
    "                i+=1\n",
    "        category_data = [name, Id] + level\n",
    "        all_data.append(category_data)\n",
    "\n",
    "new_data_frame = pd.DataFrame(all_data, columns=['Name', 'Id', 'level 1', 'level 2',\n",
    "'level 3', 'level 4', 'level 5'])\n",
    "new_data_frame.head(30)"
   ]
  }
 ],
 "metadata": {
  "kernelspec": {
   "display_name": "Python 3.9.5 64-bit",
   "language": "python",
   "name": "python3"
  },
  "language_info": {
   "codemirror_mode": {
    "name": "ipython",
    "version": 3
   },
   "file_extension": ".py",
   "mimetype": "text/x-python",
   "name": "python",
   "nbconvert_exporter": "python",
   "pygments_lexer": "ipython3",
   "version": "3.9.5"
  },
  "orig_nbformat": 4,
  "vscode": {
   "interpreter": {
    "hash": "81794d4967e6c3204c66dcd87b604927b115b27c00565d3d43f05ba2f3a2cb0d"
   }
  }
 },
 "nbformat": 4,
 "nbformat_minor": 2
}
